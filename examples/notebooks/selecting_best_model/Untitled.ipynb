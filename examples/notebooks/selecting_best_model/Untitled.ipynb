{
 "cells": [
  {
   "cell_type": "markdown",
   "metadata": {},
   "source": [
    "# Automatic model building and model selection with startml\n",
    "\n",
    "In this notebook, we will train a number popular machine learning algorithms in a regression problem to estiamte house prices. \n",
    "\n",
    "The data set was provided by Kaggle, and is one of the long standing data sets in the playground section. \n",
    "\n",
    "startml currently supports hyperparameter tuning of 3 algorithms, random forest, gradient boosted machine, and deep learning. In this notebook, we will:\n",
    "\n",
    "* Automatically train a number of different machine learning algorithms through hyperparameter grid searches\n",
    "    \n",
    "* Apply a performance threshold to filter the resulting models\n",
    "    \n",
    "* Visualize the model performance and training information\n",
    "* Select one best model \n",
    "* Make Predictions with the selected model. "
   ]
  },
  {
   "cell_type": "markdown",
   "metadata": {},
   "source": [
    "## Load startml "
   ]
  },
  {
   "cell_type": "code",
   "execution_count": 1,
   "metadata": {},
   "outputs": [
    {
     "name": "stderr",
     "output_type": "stream",
     "text": [
      "Loading required package: Metrics\n",
      "Loading required package: ggplot2\n",
      "Loading required package: reshape2\n",
      "Loading required package: plyr\n",
      "Loading required package: gridExtra\n",
      "Loading required package: plotly\n",
      "\n",
      "Attaching package: ‘plotly’\n",
      "\n",
      "The following objects are masked from ‘package:plyr’:\n",
      "\n",
      "    arrange, mutate, rename, summarise\n",
      "\n",
      "The following object is masked from ‘package:ggplot2’:\n",
      "\n",
      "    last_plot\n",
      "\n",
      "The following object is masked from ‘package:stats’:\n",
      "\n",
      "    filter\n",
      "\n",
      "The following object is masked from ‘package:graphics’:\n",
      "\n",
      "    layout\n",
      "\n",
      "Loading required package: tsne\n",
      "Loading required package: htmlwidgets\n",
      "Loading required package: h2o\n",
      "\n",
      "----------------------------------------------------------------------\n",
      "\n",
      "Your next step is to start H2O:\n",
      "    > h2o.init()\n",
      "\n",
      "For H2O package documentation, ask for help:\n",
      "    > ??h2o\n",
      "\n",
      "After starting H2O, you can use the Web UI at http://localhost:54321\n",
      "For more information visit http://docs.h2o.ai\n",
      "\n",
      "----------------------------------------------------------------------\n",
      "\n",
      "\n",
      "Attaching package: ‘h2o’\n",
      "\n",
      "The following objects are masked from ‘package:stats’:\n",
      "\n",
      "    cor, sd, var\n",
      "\n",
      "The following objects are masked from ‘package:base’:\n",
      "\n",
      "    &&, %*%, %in%, ||, apply, as.factor, as.numeric, colnames,\n",
      "    colnames<-, ifelse, is.character, is.factor, is.numeric, log,\n",
      "    log10, log1p, log2, round, signif, trunc\n",
      "\n",
      "\n",
      "Attaching package: ‘startml’\n",
      "\n",
      "The following object is masked from ‘package:graphics’:\n",
      "\n",
      "    plot\n",
      "\n"
     ]
    }
   ],
   "source": [
    "#==================================================================\n",
    "# load the startml library\n",
    "#==================================================================\n",
    "library(startml)"
   ]
  },
  {
   "cell_type": "code",
   "execution_count": 2,
   "metadata": {},
   "outputs": [
    {
     "name": "stdout",
     "output_type": "stream",
     "text": [
      " Connection successful!\n",
      "\n",
      "R is connected to the H2O cluster: \n",
      "    H2O cluster uptime:         20 hours 28 minutes \n",
      "    H2O cluster version:        3.16.0.1 \n",
      "    H2O cluster version age:    2 months and 8 days  \n",
      "    H2O cluster name:           H2O_started_from_R_andrewrs_hhi848 \n",
      "    H2O cluster total nodes:    1 \n",
      "    H2O cluster total memory:   3.14 GB \n",
      "    H2O cluster total cores:    8 \n",
      "    H2O cluster allowed cores:  8 \n",
      "    H2O cluster healthy:        TRUE \n",
      "    H2O Connection ip:          localhost \n",
      "    H2O Connection port:        54321 \n",
      "    H2O Connection proxy:       NA \n",
      "    H2O Internal Security:      FALSE \n",
      "    H2O API Extensions:         XGBoost, Algos, AutoML, Core V3, Core V4 \n",
      "    R Version:                  R version 3.4.2 (2017-09-28) \n",
      "\n"
     ]
    }
   ],
   "source": [
    "#=============================================================================\n",
    "# Launch an h2o instance \n",
    "# Load in the data downloaded from Kaggle Playground\n",
    "#=============================================================================\n",
    "\n",
    "# launch an h2o instance, max ram and number of threads can be set \n",
    "# here, I just use the defaul\n",
    "h2o.init()"
   ]
  },
  {
   "cell_type": "code",
   "execution_count": 3,
   "metadata": {},
   "outputs": [
    {
     "name": "stdout",
     "output_type": "stream",
     "text": [
      "  |======================================================================| 100%\n",
      "  |======================================================================| 100%\n",
      "train: a 2D h2oFrame with shape: [ 1460 81 ]\n",
      " test: a 2D h2oFrame with shape: [ 1459 80 ]"
     ]
    }
   ],
   "source": [
    "#=============================================================================\n",
    "#\n",
    "# Load in the data downloaded from Kaggle Playground\n",
    "#\n",
    "#=============================================================================\n",
    "\n",
    "\n",
    "# use the h2o import to creat an h2o object. This is important \n",
    "#   as there is a lot going on behind the scenes in h2o, and R is only \n",
    "#   the interface.\n",
    "train <- h2o.importFile(\"data/train.csv\")\n",
    "test <- h2o.importFile(\"data/test.csv\")\n",
    "\n",
    "# print out the dimenations of train and test \n",
    "tn_dim <- dim(train)\n",
    "tt_dim <- dim(test)\n",
    "\n",
    "# build message with extras\n",
    "message <- c('train: a 2D h2oFrame with shape: [', tn_dim, ']\\n', 'test: a 2D h2oFrame with shape: [', tt_dim, ']')\n",
    "\n",
    "# print to consol\n",
    "cat(message)"
   ]
  },
  {
   "cell_type": "markdown",
   "metadata": {},
   "source": [
    "## Data Exploration\n",
    "\n",
    "H20 provides a few ways to visualize data through the R api which can be helpful. Since this data set has been \"pre-cooked\" you can just begin modeling if you want. Generally, this is not the case. Here, I used a few of the built in vizualization functions in the h2o library to look at the data. These functions are designed to work with pretty big data sets, which is why they use binning so much. We dont need it here, as there are only about 1500 rows, but I'll do it anyway to show the style of figure you can get out of really big data sets with these functions.  "
   ]
  },
  {
   "cell_type": "code",
   "execution_count": 4,
   "metadata": {},
   "outputs": [
    {
     "data": {
      "text/html": [
       "<ol class=list-inline>\n",
       "\t<li>'Id'</li>\n",
       "\t<li>'MSSubClass'</li>\n",
       "\t<li>'MSZoning'</li>\n",
       "\t<li>'LotFrontage'</li>\n",
       "\t<li>'LotArea'</li>\n",
       "\t<li>'Street'</li>\n",
       "\t<li>'Alley'</li>\n",
       "\t<li>'LotShape'</li>\n",
       "\t<li>'LandContour'</li>\n",
       "\t<li>'Utilities'</li>\n",
       "\t<li>'LotConfig'</li>\n",
       "\t<li>'LandSlope'</li>\n",
       "\t<li>'Neighborhood'</li>\n",
       "\t<li>'Condition1'</li>\n",
       "\t<li>'Condition2'</li>\n",
       "\t<li>'BldgType'</li>\n",
       "\t<li>'HouseStyle'</li>\n",
       "\t<li>'OverallQual'</li>\n",
       "\t<li>'OverallCond'</li>\n",
       "\t<li>'YearBuilt'</li>\n",
       "\t<li>'YearRemodAdd'</li>\n",
       "\t<li>'RoofStyle'</li>\n",
       "\t<li>'RoofMatl'</li>\n",
       "\t<li>'Exterior1st'</li>\n",
       "\t<li>'Exterior2nd'</li>\n",
       "\t<li>'MasVnrType'</li>\n",
       "\t<li>'MasVnrArea'</li>\n",
       "\t<li>'ExterQual'</li>\n",
       "\t<li>'ExterCond'</li>\n",
       "\t<li>'Foundation'</li>\n",
       "\t<li>'BsmtQual'</li>\n",
       "\t<li>'BsmtCond'</li>\n",
       "\t<li>'BsmtExposure'</li>\n",
       "\t<li>'BsmtFinType1'</li>\n",
       "\t<li>'BsmtFinSF1'</li>\n",
       "\t<li>'BsmtFinType2'</li>\n",
       "\t<li>'BsmtFinSF2'</li>\n",
       "\t<li>'BsmtUnfSF'</li>\n",
       "\t<li>'TotalBsmtSF'</li>\n",
       "\t<li>'Heating'</li>\n",
       "\t<li>'HeatingQC'</li>\n",
       "\t<li>'CentralAir'</li>\n",
       "\t<li>'Electrical'</li>\n",
       "\t<li>'1stFlrSF'</li>\n",
       "\t<li>'2ndFlrSF'</li>\n",
       "\t<li>'LowQualFinSF'</li>\n",
       "\t<li>'GrLivArea'</li>\n",
       "\t<li>'BsmtFullBath'</li>\n",
       "\t<li>'BsmtHalfBath'</li>\n",
       "\t<li>'FullBath'</li>\n",
       "\t<li>'HalfBath'</li>\n",
       "\t<li>'BedroomAbvGr'</li>\n",
       "\t<li>'KitchenAbvGr'</li>\n",
       "\t<li>'KitchenQual'</li>\n",
       "\t<li>'TotRmsAbvGrd'</li>\n",
       "\t<li>'Functional'</li>\n",
       "\t<li>'Fireplaces'</li>\n",
       "\t<li>'FireplaceQu'</li>\n",
       "\t<li>'GarageType'</li>\n",
       "\t<li>'GarageYrBlt'</li>\n",
       "\t<li>'GarageFinish'</li>\n",
       "\t<li>'GarageCars'</li>\n",
       "\t<li>'GarageArea'</li>\n",
       "\t<li>'GarageQual'</li>\n",
       "\t<li>'GarageCond'</li>\n",
       "\t<li>'PavedDrive'</li>\n",
       "\t<li>'WoodDeckSF'</li>\n",
       "\t<li>'OpenPorchSF'</li>\n",
       "\t<li>'EnclosedPorch'</li>\n",
       "\t<li>'3SsnPorch'</li>\n",
       "\t<li>'ScreenPorch'</li>\n",
       "\t<li>'PoolArea'</li>\n",
       "\t<li>'PoolQC'</li>\n",
       "\t<li>'Fence'</li>\n",
       "\t<li>'MiscFeature'</li>\n",
       "\t<li>'MiscVal'</li>\n",
       "\t<li>'MoSold'</li>\n",
       "\t<li>'YrSold'</li>\n",
       "\t<li>'SaleType'</li>\n",
       "\t<li>'SaleCondition'</li>\n",
       "\t<li>'SalePrice'</li>\n",
       "</ol>\n"
      ],
      "text/latex": [
       "\\begin{enumerate*}\n",
       "\\item 'Id'\n",
       "\\item 'MSSubClass'\n",
       "\\item 'MSZoning'\n",
       "\\item 'LotFrontage'\n",
       "\\item 'LotArea'\n",
       "\\item 'Street'\n",
       "\\item 'Alley'\n",
       "\\item 'LotShape'\n",
       "\\item 'LandContour'\n",
       "\\item 'Utilities'\n",
       "\\item 'LotConfig'\n",
       "\\item 'LandSlope'\n",
       "\\item 'Neighborhood'\n",
       "\\item 'Condition1'\n",
       "\\item 'Condition2'\n",
       "\\item 'BldgType'\n",
       "\\item 'HouseStyle'\n",
       "\\item 'OverallQual'\n",
       "\\item 'OverallCond'\n",
       "\\item 'YearBuilt'\n",
       "\\item 'YearRemodAdd'\n",
       "\\item 'RoofStyle'\n",
       "\\item 'RoofMatl'\n",
       "\\item 'Exterior1st'\n",
       "\\item 'Exterior2nd'\n",
       "\\item 'MasVnrType'\n",
       "\\item 'MasVnrArea'\n",
       "\\item 'ExterQual'\n",
       "\\item 'ExterCond'\n",
       "\\item 'Foundation'\n",
       "\\item 'BsmtQual'\n",
       "\\item 'BsmtCond'\n",
       "\\item 'BsmtExposure'\n",
       "\\item 'BsmtFinType1'\n",
       "\\item 'BsmtFinSF1'\n",
       "\\item 'BsmtFinType2'\n",
       "\\item 'BsmtFinSF2'\n",
       "\\item 'BsmtUnfSF'\n",
       "\\item 'TotalBsmtSF'\n",
       "\\item 'Heating'\n",
       "\\item 'HeatingQC'\n",
       "\\item 'CentralAir'\n",
       "\\item 'Electrical'\n",
       "\\item '1stFlrSF'\n",
       "\\item '2ndFlrSF'\n",
       "\\item 'LowQualFinSF'\n",
       "\\item 'GrLivArea'\n",
       "\\item 'BsmtFullBath'\n",
       "\\item 'BsmtHalfBath'\n",
       "\\item 'FullBath'\n",
       "\\item 'HalfBath'\n",
       "\\item 'BedroomAbvGr'\n",
       "\\item 'KitchenAbvGr'\n",
       "\\item 'KitchenQual'\n",
       "\\item 'TotRmsAbvGrd'\n",
       "\\item 'Functional'\n",
       "\\item 'Fireplaces'\n",
       "\\item 'FireplaceQu'\n",
       "\\item 'GarageType'\n",
       "\\item 'GarageYrBlt'\n",
       "\\item 'GarageFinish'\n",
       "\\item 'GarageCars'\n",
       "\\item 'GarageArea'\n",
       "\\item 'GarageQual'\n",
       "\\item 'GarageCond'\n",
       "\\item 'PavedDrive'\n",
       "\\item 'WoodDeckSF'\n",
       "\\item 'OpenPorchSF'\n",
       "\\item 'EnclosedPorch'\n",
       "\\item '3SsnPorch'\n",
       "\\item 'ScreenPorch'\n",
       "\\item 'PoolArea'\n",
       "\\item 'PoolQC'\n",
       "\\item 'Fence'\n",
       "\\item 'MiscFeature'\n",
       "\\item 'MiscVal'\n",
       "\\item 'MoSold'\n",
       "\\item 'YrSold'\n",
       "\\item 'SaleType'\n",
       "\\item 'SaleCondition'\n",
       "\\item 'SalePrice'\n",
       "\\end{enumerate*}\n"
      ],
      "text/markdown": [
       "1. 'Id'\n",
       "2. 'MSSubClass'\n",
       "3. 'MSZoning'\n",
       "4. 'LotFrontage'\n",
       "5. 'LotArea'\n",
       "6. 'Street'\n",
       "7. 'Alley'\n",
       "8. 'LotShape'\n",
       "9. 'LandContour'\n",
       "10. 'Utilities'\n",
       "11. 'LotConfig'\n",
       "12. 'LandSlope'\n",
       "13. 'Neighborhood'\n",
       "14. 'Condition1'\n",
       "15. 'Condition2'\n",
       "16. 'BldgType'\n",
       "17. 'HouseStyle'\n",
       "18. 'OverallQual'\n",
       "19. 'OverallCond'\n",
       "20. 'YearBuilt'\n",
       "21. 'YearRemodAdd'\n",
       "22. 'RoofStyle'\n",
       "23. 'RoofMatl'\n",
       "24. 'Exterior1st'\n",
       "25. 'Exterior2nd'\n",
       "26. 'MasVnrType'\n",
       "27. 'MasVnrArea'\n",
       "28. 'ExterQual'\n",
       "29. 'ExterCond'\n",
       "30. 'Foundation'\n",
       "31. 'BsmtQual'\n",
       "32. 'BsmtCond'\n",
       "33. 'BsmtExposure'\n",
       "34. 'BsmtFinType1'\n",
       "35. 'BsmtFinSF1'\n",
       "36. 'BsmtFinType2'\n",
       "37. 'BsmtFinSF2'\n",
       "38. 'BsmtUnfSF'\n",
       "39. 'TotalBsmtSF'\n",
       "40. 'Heating'\n",
       "41. 'HeatingQC'\n",
       "42. 'CentralAir'\n",
       "43. 'Electrical'\n",
       "44. '1stFlrSF'\n",
       "45. '2ndFlrSF'\n",
       "46. 'LowQualFinSF'\n",
       "47. 'GrLivArea'\n",
       "48. 'BsmtFullBath'\n",
       "49. 'BsmtHalfBath'\n",
       "50. 'FullBath'\n",
       "51. 'HalfBath'\n",
       "52. 'BedroomAbvGr'\n",
       "53. 'KitchenAbvGr'\n",
       "54. 'KitchenQual'\n",
       "55. 'TotRmsAbvGrd'\n",
       "56. 'Functional'\n",
       "57. 'Fireplaces'\n",
       "58. 'FireplaceQu'\n",
       "59. 'GarageType'\n",
       "60. 'GarageYrBlt'\n",
       "61. 'GarageFinish'\n",
       "62. 'GarageCars'\n",
       "63. 'GarageArea'\n",
       "64. 'GarageQual'\n",
       "65. 'GarageCond'\n",
       "66. 'PavedDrive'\n",
       "67. 'WoodDeckSF'\n",
       "68. 'OpenPorchSF'\n",
       "69. 'EnclosedPorch'\n",
       "70. '3SsnPorch'\n",
       "71. 'ScreenPorch'\n",
       "72. 'PoolArea'\n",
       "73. 'PoolQC'\n",
       "74. 'Fence'\n",
       "75. 'MiscFeature'\n",
       "76. 'MiscVal'\n",
       "77. 'MoSold'\n",
       "78. 'YrSold'\n",
       "79. 'SaleType'\n",
       "80. 'SaleCondition'\n",
       "81. 'SalePrice'\n",
       "\n",
       "\n"
      ],
      "text/plain": [
       " [1] \"Id\"            \"MSSubClass\"    \"MSZoning\"      \"LotFrontage\"  \n",
       " [5] \"LotArea\"       \"Street\"        \"Alley\"         \"LotShape\"     \n",
       " [9] \"LandContour\"   \"Utilities\"     \"LotConfig\"     \"LandSlope\"    \n",
       "[13] \"Neighborhood\"  \"Condition1\"    \"Condition2\"    \"BldgType\"     \n",
       "[17] \"HouseStyle\"    \"OverallQual\"   \"OverallCond\"   \"YearBuilt\"    \n",
       "[21] \"YearRemodAdd\"  \"RoofStyle\"     \"RoofMatl\"      \"Exterior1st\"  \n",
       "[25] \"Exterior2nd\"   \"MasVnrType\"    \"MasVnrArea\"    \"ExterQual\"    \n",
       "[29] \"ExterCond\"     \"Foundation\"    \"BsmtQual\"      \"BsmtCond\"     \n",
       "[33] \"BsmtExposure\"  \"BsmtFinType1\"  \"BsmtFinSF1\"    \"BsmtFinType2\" \n",
       "[37] \"BsmtFinSF2\"    \"BsmtUnfSF\"     \"TotalBsmtSF\"   \"Heating\"      \n",
       "[41] \"HeatingQC\"     \"CentralAir\"    \"Electrical\"    \"1stFlrSF\"     \n",
       "[45] \"2ndFlrSF\"      \"LowQualFinSF\"  \"GrLivArea\"     \"BsmtFullBath\" \n",
       "[49] \"BsmtHalfBath\"  \"FullBath\"      \"HalfBath\"      \"BedroomAbvGr\" \n",
       "[53] \"KitchenAbvGr\"  \"KitchenQual\"   \"TotRmsAbvGrd\"  \"Functional\"   \n",
       "[57] \"Fireplaces\"    \"FireplaceQu\"   \"GarageType\"    \"GarageYrBlt\"  \n",
       "[61] \"GarageFinish\"  \"GarageCars\"    \"GarageArea\"    \"GarageQual\"   \n",
       "[65] \"GarageCond\"    \"PavedDrive\"    \"WoodDeckSF\"    \"OpenPorchSF\"  \n",
       "[69] \"EnclosedPorch\" \"3SsnPorch\"     \"ScreenPorch\"   \"PoolArea\"     \n",
       "[73] \"PoolQC\"        \"Fence\"         \"MiscFeature\"   \"MiscVal\"      \n",
       "[77] \"MoSold\"        \"YrSold\"        \"SaleType\"      \"SaleCondition\"\n",
       "[81] \"SalePrice\"    "
      ]
     },
     "metadata": {},
     "output_type": "display_data"
    }
   ],
   "source": [
    "#=============================================================================\n",
    "#\n",
    "# Using h2o fucntion to visualize the data\n",
    "#\n",
    "#=============================================================================\n",
    "\n",
    "# lets print out the column names of train, you can do it the same way as a dataframe\n",
    "colnames(train)"
   ]
  },
  {
   "cell_type": "markdown",
   "metadata": {},
   "source": [
    "### Cut out a few columns\n",
    "\n",
    "Now, I'll cut out a few columns that are difficult to split well into train, valid, test. Again, stratified splits or some other better way will be incorperated into a later version of startml. I know this from running this notebook a few times, in real applications this info may come from a little trial and error"
   ]
  },
  {
   "cell_type": "code",
   "execution_count": 5,
   "metadata": {},
   "outputs": [
    {
     "name": "stdout",
     "output_type": "stream",
     "text": [
      "Now we are down to  76  columns"
     ]
    }
   ],
   "source": [
    "#=============================================================================\n",
    "#\n",
    "# Cut out a few columns of the training data\n",
    "#\n",
    "#=============================================================================\n",
    "\n",
    "# you can interact with h2oFrames mostly the same way you interact with dataframes\n",
    "\n",
    "\n",
    "train <- train[,!names(train) %in% c('Exterior1st', 'Exterior2nd', 'KitchenQual','Functional',  'SaleType', 'MSZoning')]\n",
    "test <- test[,!names(test) %in% c('Exterior1st', 'Exterior2nd', 'KitchenQual','Functional',  'SaleType', 'MSZoning')]\n",
    "\n",
    "\n",
    "# check number of columns \n",
    "message <- c('Now we are down to ', ncol(train), ' columns')\n",
    "cat(message)"
   ]
  },
  {
   "cell_type": "markdown",
   "metadata": {},
   "source": [
    "### Look at the sale year and sale price\n",
    "\n",
    "Doesn't seem to be a lot of correlation. Interestingly, the most expensive house was bought in 2007 before the housing crisis, but it looks like more houses over half a million were bought post 2008. In general its hard to see any correlations."
   ]
  },
  {
   "cell_type": "code",
   "execution_count": 6,
   "metadata": {},
   "outputs": [
    {
     "data": {},
     "metadata": {},
     "output_type": "display_data"
    },
    {
     "data": {
      "image/png": "[encoded data removed]",
      "text/plain": [
       "plot without title"
      ]
     },
     "metadata": {},
     "output_type": "display_data"
    }
   ],
   "source": [
    "# since sale price is the target variable lets plot a couple of input variables with respect\n",
    "#   to SalePrice \n",
    "plot(h2o.tabulate(train, \"YrSold\", \"SalePrice\"))"
   ]
  },
  {
   "cell_type": "markdown",
   "metadata": {},
   "source": [
    "### Look at the sale month and sale price\n",
    "\n",
    "It looks like most houses are sold in warmer months, may june and july. Its possible that there is a postive correlation where houses sold later through the high volumen months sell for more, but its hard to say with confidence from this overview plot. Also, it looks like no houses over half a million were sold between august and december, while the month with the most highest price sales is july. "
   ]
  },
  {
   "cell_type": "code",
   "execution_count": 7,
   "metadata": {},
   "outputs": [
    {
     "data": {},
     "metadata": {},
     "output_type": "display_data"
    },
    {
     "data": {
      "image/png": "[encoded data removed]",
      "text/plain": [
       "plot without title"
      ]
     },
     "metadata": {},
     "output_type": "display_data"
    }
   ],
   "source": [
    "# Try the month sold\n",
    "plot(h2o.tabulate(train, \"MoSold\", \"SalePrice\" ))"
   ]
  },
  {
   "cell_type": "markdown",
   "metadata": {},
   "source": [
    "### Overall condition and sale price\n",
    "\n",
    "Looks like most houses are in condition 5 / 10. I guess thats not surprising. Houses in this condition have a wide range of sale prices. I think you really can see a positive collelation overall, with an increasing condition rising with sale price, although there is lots of variance. "
   ]
  },
  {
   "cell_type": "code",
   "execution_count": 8,
   "metadata": {
    "scrolled": true
   },
   "outputs": [
    {
     "data": {},
     "metadata": {},
     "output_type": "display_data"
    },
    {
     "data": {
      "image/png": "[encoded data removed]",
      "text/plain": [
       "plot without title"
      ]
     },
     "metadata": {},
     "output_type": "display_data"
    }
   ],
   "source": [
    "# overall condition is probably important\n",
    "plot(h2o.tabulate(train, \"OverallCond\", \"SalePrice\"))"
   ]
  },
  {
   "cell_type": "markdown",
   "metadata": {},
   "source": [
    "### Garage car capacity and sale price\n",
    "\n",
    "This one is interesting. There seems to be a strong postive correlation between garage car capacity and sale price, compared to the other relationships we've seem so far. If you read the meta-data about the training set, then you know there houses are located in and around Ames, Iowa USA. Iowa is a very rural state, and ames is not a big city. Public transportation is likely not a realistic option for most people. Those looking to buy a new house in this area put a lot of value on the ability to store more vechicles in a covered garage.  "
   ]
  },
  {
   "cell_type": "code",
   "execution_count": 9,
   "metadata": {},
   "outputs": [
    {
     "data": {},
     "metadata": {},
     "output_type": "display_data"
    },
    {
     "data": {
      "image/png": "[encoded data removed]",
      "text/plain": [
       "plot without title"
      ]
     },
     "metadata": {},
     "output_type": "display_data"
    }
   ],
   "source": [
    "# Now the garage size \n",
    "plot(h2o.tabulate(train, \"GarageCars\", \"SalePrice\" ))"
   ]
  },
  {
   "cell_type": "markdown",
   "metadata": {},
   "source": [
    "## Run startml\n",
    "\n",
    "A few things happen when you run startml: \n",
    "* The labeled data is split into training, validation, and testing sets.\n",
    "* the algorithms you selected are trained one type at a time\n",
    "    * A grid search provided by h2o is used to train many models\n",
    "    * These models are saved into the output object, which is an mlblob class. \n",
    "    * Additionally, each model is saved onto the disk, incase of run failures on long training sessions. \n",
    "    * Each model is evaluated separately on the test set\n",
    "* Predictions of each model on train, validation, test, and newdata are saved to the output mlblob object\n",
    "\n",
    "---\n",
    "\n",
    "The inputs are as follows:\n",
    "* **labeled_data** -> this is the collection of labeled data that will be used train, validate, and test the models. It is an h2oFrame object, which mentally is similar to an R dataframe, but it exists on the h2o cluster inililized earlier. This allows for scalling to multi-node clusters and big data.\n",
    "* **newdata** -> newdata is a h2oFrame object containing input variables but no labels. If this argument is left empty, no predictions will be made, but the models will still be trained and tested. If it is present, all the models trained will be used to make predictions, or those which satisfy the threhold arguments\n",
    "*  **label_id** -> text object. name of the id column in training and  newdata that you want to leave out of the analysis. If you have a integer varialbe that idenfies observations and you leave it in, you can create false correlations and worthless models. This does not delete the column, just never trains any models on it. It will still be there in the output to identify predictions. \n",
    "* **y** -> A text object defining the name of the target column, the one you are training to predict.\n",
    "* **x** -> A string of text objects defining the input variables by labeled data column name which will become inputs in all the models. If not used, then all columns will be used for training except the label id column, if specifed. \n",
    "* **algorithms** -> string of text objects defining which algorithms to train. Can be any of or any combination of \"deeplearning\", \"randomForest\", and \"gbm\". Naming conventions adopted from h2o for consistency. \n",
    "* **split_seed** the random seed which is used to split the data into train, validation, and test sets. This is incluced in an effort to make the startml process more repeatable. In general, h2o training and model building on the h2o cluster is not perfectly repeatable. This is still under construction, as ideally smarter data splits would be available. For now, consider this limiation in how data is split when building your labeled data set. \n",
    "* **runtime_secs** -> the total number of seconds each grid search will use when training algorithms. For example, if you were training just deep learning algorithms, and you set runtime_secs to 60, then startml would perform 1 grid search lasting 60 secs. If however, you wanted to train deep learning and random forest models, then startml would perfom 2 grid searches each lasting 60 secs totaling 2 minutes. \n",
    "* **eval_metric** -> the evaluation metric used for training and testing models. Right now, startml only supports regression and binary classification, and can use \"RMSE\", \"RMSLE\", \"cross_entropy\" \"MSE\", \"MAE\", \"AUC\", and a few other metrics.\n",
    "* **other arguments** -> there are a few others, which I have left out here for brevity. More in the official documentation. "
   ]
  },
  {
   "cell_type": "code",
   "execution_count": 10,
   "metadata": {},
   "outputs": [
    {
     "name": "stdout",
     "output_type": "stream",
     "text": [
      "Training Deep Learning Models\n",
      "  |======================================================================| 100%\n",
      "Deep Learning Models Saved To:\n",
      " /home/andrewrs/Desktop/r_note/dl_models \n",
      "\n",
      "Training Random Forest Models\n",
      "  |======================================================================| 100%\n",
      "Random Forest Models Saved To:\n",
      " /home/andrewrs/Desktop/r_note/rf_models \n",
      "\n",
      "Training Gradient Boosting Models\n",
      "  |======================================================================| 100%\n",
      "gbm Models Saved To:\n",
      " /home/andrewrs/Desktop/r_note/gbm_models \n",
      "\n",
      "\n",
      "Saving Train Predictions with Selected Models\n",
      "  |======================================================================| 100%\n",
      "  |======================================================================| 100%\n",
      "  |======================================================================| 100%\n",
      "  |======================================================================| 100%\n",
      "  |======================================================================| 100%\n",
      "  |======================================================================| 100%\n",
      "  |======================================================================| 100%\n",
      "  |======================================================================| 100%\n",
      "  |======================================================================| 100%\n",
      "  |======================================================================| 100%\n",
      "  |======================================================================| 100%\n",
      "  |======================================================================| 100%\n",
      "  |======================================================================| 100%\n",
      "  |======================================================================| 100%\n",
      "  |======================================================================| 100%\n",
      "  |======================================================================| 100%\n",
      "  |======================================================================| 100%\n",
      "  |======================================================================| 100%\n",
      "  |======================================================================| 100%\n",
      "  |======================================================================| 100%\n",
      "  |======================================================================| 100%\n",
      "  |======================================================================| 100%\n",
      "  |======================================================================| 100%\n",
      "  |======================================================================| 100%\n",
      "  |======================================================================| 100%\n",
      "  |======================================================================| 100%\n",
      "  |======================================================================| 100%\n",
      "  |======================================================================| 100%\n",
      "  |======================================================================| 100%\n",
      "  |======================================================================| 100%\n",
      "  |======================================================================| 100%\n",
      "  |======================================================================| 100%\n",
      "  |======================================================================| 100%\n",
      "  |======================================================================| 100%\n",
      "  |======================================================================| 100%\n",
      "  |======================================================================| 100%\n",
      "  |======================================================================| 100%\n",
      "  |======================================================================| 100%\n",
      "  |======================================================================| 100%\n",
      "  |======================================================================| 100%\n",
      "  |======================================================================| 100%\n",
      "  |======================================================================| 100%\n",
      "  |======================================================================| 100%\n",
      "  |======================================================================| 100%\n",
      "  |======================================================================| 100%\n",
      "  |======================================================================| 100%\n",
      "  |======================================================================| 100%\n",
      "  |======================================================================| 100%\n",
      "  |======================================================================| 100%\n",
      "  |======================================================================| 100%\n",
      "  |======================================================================| 100%\n",
      "  |======================================================================| 100%\n",
      "  |======================================================================| 100%\n",
      "  |======================================================================| 100%\n",
      "  |======================================================================| 100%\n",
      "  |======================================================================| 100%\n",
      "  |======================================================================| 100%\n",
      "  |======================================================================| 100%\n",
      "  |======================================================================| 100%\n",
      "  |======================================================================| 100%\n",
      "  |======================================================================| 100%\n",
      "  |======================================================================| 100%\n",
      "  |======================================================================| 100%\n",
      "  |======================================================================| 100%\n",
      "  |======================================================================| 100%\n",
      "  |======================================================================| 100%\n",
      "  |======================================================================| 100%\n",
      "  |======================================================================| 100%\n",
      "  |======================================================================| 100%\n",
      "  |======================================================================| 100%\n",
      "  |======================================================================| 100%\n",
      "  |======================================================================| 100%\n",
      "  |======================================================================| 100%\n",
      "  |======================================================================| 100%\n",
      "  |======================================================================| 100%\n",
      "  |======================================================================| 100%\n",
      "  |======================================================================| 100%\n",
      "  |======================================================================| 100%\n",
      "  |======================================================================| 100%\n",
      "  |======================================================================| 100%\n",
      "  |======================================================================| 100%\n",
      "  |======================================================================| 100%\n",
      "  |======================================================================| 100%\n",
      "  |======================================================================| 100%\n",
      "  |======================================================================| 100%\n",
      "  |======================================================================| 100%\n",
      "  |======================================================================| 100%\n",
      "  |======================================================================| 100%\n",
      "  |======================================================================| 100%\n",
      "  |======================================================================| 100%\n",
      "  |======================================================================| 100%\n",
      "  |======================================================================| 100%\n",
      "  |======================================================================| 100%\n",
      "  |======================================================================| 100%\n"
     ]
    },
    {
     "name": "stdout",
     "output_type": "stream",
     "text": [
      "  |======================================================================| 100%\n",
      "  |======================================================================| 100%\n",
      "  |======================================================================| 100%\n",
      "  |======================================================================| 100%\n",
      "  |======================================================================| 100%\n",
      "  |======================================================================| 100%\n",
      "  |======================================================================| 100%\n",
      "  |======================================================================| 100%\n",
      "  |======================================================================| 100%\n",
      "\n",
      "Saving Valid Predictions with Selected Models\n",
      "  |======================================================================| 100%\n",
      "  |======================================================================| 100%\n",
      "  |======================================================================| 100%\n",
      "  |======================================================================| 100%\n",
      "  |======================================================================| 100%\n",
      "  |======================================================================| 100%\n",
      "  |======================================================================| 100%\n",
      "  |======================================================================| 100%\n",
      "  |======================================================================| 100%\n",
      "  |======================================================================| 100%\n",
      "  |======================================================================| 100%\n",
      "  |======================================================================| 100%\n",
      "  |======================================================================| 100%\n",
      "  |======================================================================| 100%\n",
      "  |======================================================================| 100%\n",
      "  |======================================================================| 100%\n",
      "  |======================================================================| 100%\n",
      "  |======================================================================| 100%\n",
      "  |======================================================================| 100%\n",
      "  |======================================================================| 100%\n",
      "  |======================================================================| 100%\n",
      "  |======================================================================| 100%\n",
      "  |======================================================================| 100%\n",
      "  |======================================================================| 100%\n",
      "  |======================================================================| 100%\n",
      "  |======================================================================| 100%\n",
      "  |======================================================================| 100%\n",
      "  |======================================================================| 100%\n",
      "  |======================================================================| 100%\n",
      "  |======================================================================| 100%\n",
      "  |======================================================================| 100%\n",
      "  |======================================================================| 100%\n",
      "  |======================================================================| 100%\n",
      "  |======================================================================| 100%\n",
      "  |======================================================================| 100%\n",
      "  |======================================================================| 100%\n",
      "  |======================================================================| 100%\n",
      "  |======================================================================| 100%\n",
      "  |======================================================================| 100%\n",
      "  |======================================================================| 100%\n",
      "  |======================================================================| 100%\n",
      "  |======================================================================| 100%\n",
      "  |======================================================================| 100%\n",
      "  |======================================================================| 100%\n",
      "  |======================================================================| 100%\n",
      "  |======================================================================| 100%\n",
      "  |======================================================================| 100%\n",
      "  |======================================================================| 100%\n",
      "  |======================================================================| 100%\n",
      "  |======================================================================| 100%\n",
      "  |======================================================================| 100%\n",
      "  |======================================================================| 100%\n",
      "  |======================================================================| 100%\n",
      "  |======================================================================| 100%\n",
      "  |======================================================================| 100%\n",
      "  |======================================================================| 100%\n",
      "  |======================================================================| 100%\n",
      "  |======================================================================| 100%\n",
      "  |======================================================================| 100%\n",
      "  |======================================================================| 100%\n",
      "  |======================================================================| 100%\n",
      "  |======================================================================| 100%\n",
      "  |======================================================================| 100%\n",
      "  |======================================================================| 100%\n",
      "  |======================================================================| 100%\n",
      "  |======================================================================| 100%\n",
      "  |======================================================================| 100%\n",
      "  |======================================================================| 100%\n",
      "  |======================================================================| 100%\n",
      "  |======================================================================| 100%\n",
      "  |======================================================================| 100%\n",
      "  |======================================================================| 100%\n",
      "  |======================================================================| 100%\n",
      "  |======================================================================| 100%\n",
      "  |======================================================================| 100%\n",
      "  |======================================================================| 100%\n",
      "  |======================================================================| 100%\n",
      "  |======================================================================| 100%\n",
      "  |======================================================================| 100%\n",
      "  |======================================================================| 100%\n",
      "  |======================================================================| 100%\n",
      "  |======================================================================| 100%\n",
      "  |======================================================================| 100%\n",
      "  |======================================================================| 100%\n",
      "  |======================================================================| 100%\n",
      "  |======================================================================| 100%\n",
      "  |======================================================================| 100%\n",
      "  |======================================================================| 100%\n",
      "  |======================================================================| 100%\n",
      "  |======================================================================| 100%\n",
      "  |======================================================================| 100%\n",
      "  |======================================================================| 100%\n"
     ]
    },
    {
     "name": "stdout",
     "output_type": "stream",
     "text": [
      "  |======================================================================| 100%\n",
      "  |======================================================================| 100%\n",
      "  |======================================================================| 100%\n",
      "  |======================================================================| 100%\n",
      "  |======================================================================| 100%\n",
      "  |======================================================================| 100%\n",
      "  |======================================================================| 100%\n",
      "  |======================================================================| 100%\n",
      "  |======================================================================| 100%\n",
      "  |======================================================================| 100%\n",
      "  |======================================================================| 100%\n",
      "\n",
      "Saving Test Predictions with Selected Models\n",
      "  |======================================================================| 100%\n",
      "  |======================================================================| 100%\n",
      "  |======================================================================| 100%\n",
      "  |======================================================================| 100%\n",
      "  |======================================================================| 100%\n",
      "  |======================================================================| 100%\n",
      "  |======================================================================| 100%\n",
      "  |======================================================================| 100%\n",
      "  |======================================================================| 100%\n",
      "  |======================================================================| 100%\n",
      "  |======================================================================| 100%\n",
      "  |======================================================================| 100%\n",
      "  |======================================================================| 100%\n",
      "  |======================================================================| 100%\n",
      "  |======================================================================| 100%\n",
      "  |======================================================================| 100%\n",
      "  |======================================================================| 100%\n",
      "  |======================================================================| 100%\n",
      "  |======================================================================| 100%\n",
      "  |======================================================================| 100%\n",
      "  |======================================================================| 100%\n",
      "  |======================================================================| 100%\n",
      "  |======================================================================| 100%\n",
      "  |======================================================================| 100%\n",
      "  |======================================================================| 100%\n",
      "  |======================================================================| 100%\n",
      "  |======================================================================| 100%\n",
      "  |======================================================================| 100%\n",
      "  |======================================================================| 100%\n",
      "  |======================================================================| 100%\n",
      "  |======================================================================| 100%\n",
      "  |======================================================================| 100%\n",
      "  |======================================================================| 100%\n",
      "  |======================================================================| 100%\n",
      "  |======================================================================| 100%\n",
      "  |======================================================================| 100%\n",
      "  |======================================================================| 100%\n",
      "  |======================================================================| 100%\n",
      "  |======================================================================| 100%\n",
      "  |======================================================================| 100%\n",
      "  |======================================================================| 100%\n",
      "  |======================================================================| 100%\n",
      "  |======================================================================| 100%\n",
      "  |======================================================================| 100%\n",
      "  |======================================================================| 100%\n",
      "  |======================================================================| 100%\n",
      "  |======================================================================| 100%\n",
      "  |======================================================================| 100%\n",
      "  |======================================================================| 100%\n",
      "  |======================================================================| 100%\n",
      "  |======================================================================| 100%\n",
      "  |======================================================================| 100%\n",
      "  |======================================================================| 100%\n",
      "  |======================================================================| 100%\n",
      "  |======================================================================| 100%\n",
      "  |======================================================================| 100%\n",
      "  |======================================================================| 100%\n",
      "  |======================================================================| 100%\n",
      "  |======================================================================| 100%\n",
      "  |======================================================================| 100%\n",
      "  |======================================================================| 100%\n",
      "  |======================================================================| 100%\n",
      "  |======================================================================| 100%\n",
      "  |======================================================================| 100%\n",
      "  |======================================================================| 100%\n",
      "  |======================================================================| 100%\n",
      "  |======================================================================| 100%\n",
      "  |======================================================================| 100%\n",
      "  |======================================================================| 100%\n",
      "  |======================================================================| 100%\n",
      "  |======================================================================| 100%\n",
      "  |======================================================================| 100%\n",
      "  |======================================================================| 100%\n",
      "  |======================================================================| 100%\n",
      "  |======================================================================| 100%\n",
      "  |======================================================================| 100%\n",
      "  |======================================================================| 100%\n",
      "  |======================================================================| 100%\n",
      "  |======================================================================| 100%\n",
      "  |======================================================================| 100%\n",
      "  |======================================================================| 100%\n",
      "  |======================================================================| 100%\n",
      "  |======================================================================| 100%\n",
      "  |======================================================================| 100%\n",
      "  |======================================================================| 100%\n",
      "  |======================================================================| 100%\n",
      "  |======================================================================| 100%\n",
      "  |======================================================================| 100%\n",
      "  |======================================================================| 100%\n",
      "  |======================================================================| 100%\n"
     ]
    },
    {
     "name": "stdout",
     "output_type": "stream",
     "text": [
      "  |======================================================================| 100%\n",
      "  |======================================================================| 100%\n",
      "  |======================================================================| 100%\n",
      "  |======================================================================| 100%\n",
      "  |======================================================================| 100%\n",
      "  |======================================================================| 100%\n",
      "  |======================================================================| 100%\n",
      "  |======================================================================| 100%\n",
      "  |======================================================================| 100%\n",
      "  |======================================================================| 100%\n",
      "  |======================================================================| 100%\n",
      "  |======================================================================| 100%\n",
      "  |======================================================================| 100%\n",
      "\n",
      "Predicting on New Data with Selected Models\n",
      "  |======================================================================| 100%\n"
     ]
    },
    {
     "name": "stderr",
     "output_type": "stream",
     "text": [
      "Warning message in doTryCatch(return(expr), name, parentenv, handler):\n",
      "“Test/Validation dataset column 'MSZoning' has levels not trained on: [NA]”"
     ]
    },
    {
     "name": "stdout",
     "output_type": "stream",
     "text": [
      "  |======================================================================| 100%\n"
     ]
    },
    {
     "name": "stderr",
     "output_type": "stream",
     "text": [
      "Warning message in doTryCatch(return(expr), name, parentenv, handler):\n",
      "“Test/Validation dataset column 'MSZoning' has levels not trained on: [NA]”"
     ]
    },
    {
     "name": "stdout",
     "output_type": "stream",
     "text": [
      "  |======================================================================| 100%\n"
     ]
    },
    {
     "name": "stderr",
     "output_type": "stream",
     "text": [
      "Warning message in doTryCatch(return(expr), name, parentenv, handler):\n",
      "“Test/Validation dataset column 'MSZoning' has levels not trained on: [NA]”"
     ]
    },
    {
     "name": "stdout",
     "output_type": "stream",
     "text": [
      "  |======================================================================| 100%\n"
     ]
    },
    {
     "name": "stderr",
     "output_type": "stream",
     "text": [
      "Warning message in doTryCatch(return(expr), name, parentenv, handler):\n",
      "“Test/Validation dataset column 'MSZoning' has levels not trained on: [NA]”"
     ]
    },
    {
     "name": "stdout",
     "output_type": "stream",
     "text": [
      "  |======================================================================| 100%\n"
     ]
    },
    {
     "name": "stderr",
     "output_type": "stream",
     "text": [
      "Warning message in doTryCatch(return(expr), name, parentenv, handler):\n",
      "“Test/Validation dataset column 'MSZoning' has levels not trained on: [NA]”"
     ]
    },
    {
     "name": "stdout",
     "output_type": "stream",
     "text": [
      "  |======================================================================| 100%\n"
     ]
    },
    {
     "name": "stderr",
     "output_type": "stream",
     "text": [
      "Warning message in doTryCatch(return(expr), name, parentenv, handler):\n",
      "“Test/Validation dataset column 'MSZoning' has levels not trained on: [NA]”"
     ]
    },
    {
     "name": "stdout",
     "output_type": "stream",
     "text": [
      "  |======================================================================| 100%\n"
     ]
    },
    {
     "name": "stderr",
     "output_type": "stream",
     "text": [
      "Warning message in doTryCatch(return(expr), name, parentenv, handler):\n",
      "“Test/Validation dataset column 'MSZoning' has levels not trained on: [NA]”"
     ]
    },
    {
     "name": "stdout",
     "output_type": "stream",
     "text": [
      "  |======================================================================| 100%\n"
     ]
    },
    {
     "name": "stderr",
     "output_type": "stream",
     "text": [
      "Warning message in doTryCatch(return(expr), name, parentenv, handler):\n",
      "“Test/Validation dataset column 'MSZoning' has levels not trained on: [NA]”"
     ]
    },
    {
     "name": "stdout",
     "output_type": "stream",
     "text": [
      "  |======================================================================| 100%\n"
     ]
    },
    {
     "name": "stderr",
     "output_type": "stream",
     "text": [
      "Warning message in doTryCatch(return(expr), name, parentenv, handler):\n",
      "“Test/Validation dataset column 'MSZoning' has levels not trained on: [NA]”"
     ]
    },
    {
     "name": "stdout",
     "output_type": "stream",
     "text": [
      "  |======================================================================| 100%\n"
     ]
    },
    {
     "name": "stderr",
     "output_type": "stream",
     "text": [
      "Warning message in doTryCatch(return(expr), name, parentenv, handler):\n",
      "“Test/Validation dataset column 'MSZoning' has levels not trained on: [NA]”"
     ]
    },
    {
     "name": "stdout",
     "output_type": "stream",
     "text": [
      "  |======================================================================| 100%\n"
     ]
    },
    {
     "name": "stderr",
     "output_type": "stream",
     "text": [
      "Warning message in doTryCatch(return(expr), name, parentenv, handler):\n",
      "“Test/Validation dataset column 'MSZoning' has levels not trained on: [NA]”"
     ]
    },
    {
     "name": "stdout",
     "output_type": "stream",
     "text": [
      "  |======================================================================| 100%\n"
     ]
    },
    {
     "name": "stderr",
     "output_type": "stream",
     "text": [
      "Warning message in doTryCatch(return(expr), name, parentenv, handler):\n",
      "“Test/Validation dataset column 'MSZoning' has levels not trained on: [NA]”"
     ]
    },
    {
     "name": "stdout",
     "output_type": "stream",
     "text": [
      "  |======================================================================| 100%\n"
     ]
    },
    {
     "name": "stderr",
     "output_type": "stream",
     "text": [
      "Warning message in doTryCatch(return(expr), name, parentenv, handler):\n",
      "“Test/Validation dataset column 'MSZoning' has levels not trained on: [NA]”"
     ]
    },
    {
     "name": "stdout",
     "output_type": "stream",
     "text": [
      "  |======================================================================| 100%\n"
     ]
    },
    {
     "name": "stderr",
     "output_type": "stream",
     "text": [
      "Warning message in doTryCatch(return(expr), name, parentenv, handler):\n",
      "“Test/Validation dataset column 'MSZoning' has levels not trained on: [NA]”"
     ]
    },
    {
     "name": "stdout",
     "output_type": "stream",
     "text": [
      "  |======================================================================| 100%\n"
     ]
    },
    {
     "name": "stderr",
     "output_type": "stream",
     "text": [
      "Warning message in doTryCatch(return(expr), name, parentenv, handler):\n",
      "“Test/Validation dataset column 'MSZoning' has levels not trained on: [NA]”"
     ]
    },
    {
     "name": "stdout",
     "output_type": "stream",
     "text": [
      "  |======================================================================| 100%\n"
     ]
    },
    {
     "name": "stderr",
     "output_type": "stream",
     "text": [
      "Warning message in doTryCatch(return(expr), name, parentenv, handler):\n",
      "“Test/Validation dataset column 'MSZoning' has levels not trained on: [NA]”"
     ]
    },
    {
     "name": "stdout",
     "output_type": "stream",
     "text": [
      "  |======================================================================| 100%\n"
     ]
    },
    {
     "name": "stderr",
     "output_type": "stream",
     "text": [
      "Warning message in doTryCatch(return(expr), name, parentenv, handler):\n",
      "“Test/Validation dataset column 'MSZoning' has levels not trained on: [NA]”"
     ]
    },
    {
     "name": "stdout",
     "output_type": "stream",
     "text": [
      "  |======================================================================| 100%\n"
     ]
    },
    {
     "name": "stderr",
     "output_type": "stream",
     "text": [
      "Warning message in doTryCatch(return(expr), name, parentenv, handler):\n",
      "“Test/Validation dataset column 'MSZoning' has levels not trained on: [NA]”"
     ]
    },
    {
     "name": "stdout",
     "output_type": "stream",
     "text": [
      "  |======================================================================| 100%\n"
     ]
    },
    {
     "name": "stderr",
     "output_type": "stream",
     "text": [
      "Warning message in doTryCatch(return(expr), name, parentenv, handler):\n",
      "“Test/Validation dataset column 'MSZoning' has levels not trained on: [NA]”"
     ]
    },
    {
     "name": "stdout",
     "output_type": "stream",
     "text": [
      "  |======================================================================| 100%\n"
     ]
    },
    {
     "name": "stderr",
     "output_type": "stream",
     "text": [
      "Warning message in doTryCatch(return(expr), name, parentenv, handler):\n",
      "“Test/Validation dataset column 'MSZoning' has levels not trained on: [NA]”"
     ]
    },
    {
     "name": "stdout",
     "output_type": "stream",
     "text": [
      "  |======================================================================| 100%\n"
     ]
    },
    {
     "name": "stderr",
     "output_type": "stream",
     "text": [
      "Warning message in doTryCatch(return(expr), name, parentenv, handler):\n",
      "“Test/Validation dataset column 'MSZoning' has levels not trained on: [NA]”"
     ]
    },
    {
     "name": "stdout",
     "output_type": "stream",
     "text": [
      "  |======================================================================| 100%\n"
     ]
    },
    {
     "name": "stderr",
     "output_type": "stream",
     "text": [
      "Warning message in doTryCatch(return(expr), name, parentenv, handler):\n",
      "“Test/Validation dataset column 'MSZoning' has levels not trained on: [NA]”"
     ]
    },
    {
     "name": "stdout",
     "output_type": "stream",
     "text": [
      "  |======================================================================| 100%\n"
     ]
    },
    {
     "name": "stderr",
     "output_type": "stream",
     "text": [
      "Warning message in doTryCatch(return(expr), name, parentenv, handler):\n",
      "“Test/Validation dataset column 'MSZoning' has levels not trained on: [NA]”"
     ]
    },
    {
     "name": "stdout",
     "output_type": "stream",
     "text": [
      "  |======================================================================| 100%\n"
     ]
    },
    {
     "name": "stderr",
     "output_type": "stream",
     "text": [
      "Warning message in doTryCatch(return(expr), name, parentenv, handler):\n",
      "“Test/Validation dataset column 'MSZoning' has levels not trained on: [NA]”"
     ]
    },
    {
     "name": "stdout",
     "output_type": "stream",
     "text": [
      "  |======================================================================| 100%\n"
     ]
    },
    {
     "name": "stderr",
     "output_type": "stream",
     "text": [
      "Warning message in doTryCatch(return(expr), name, parentenv, handler):\n",
      "“Test/Validation dataset column 'MSZoning' has levels not trained on: [NA]”"
     ]
    },
    {
     "name": "stdout",
     "output_type": "stream",
     "text": [
      "  |======================================================================| 100%\n"
     ]
    },
    {
     "name": "stderr",
     "output_type": "stream",
     "text": [
      "Warning message in doTryCatch(return(expr), name, parentenv, handler):\n",
      "“Test/Validation dataset column 'MSZoning' has levels not trained on: [NA]”"
     ]
    },
    {
     "name": "stdout",
     "output_type": "stream",
     "text": [
      "  |======================================================================| 100%\n"
     ]
    },
    {
     "name": "stderr",
     "output_type": "stream",
     "text": [
      "Warning message in doTryCatch(return(expr), name, parentenv, handler):\n",
      "“Test/Validation dataset column 'MSZoning' has levels not trained on: [NA]”"
     ]
    },
    {
     "name": "stdout",
     "output_type": "stream",
     "text": [
      "  |======================================================================| 100%\n"
     ]
    },
    {
     "name": "stderr",
     "output_type": "stream",
     "text": [
      "Warning message in doTryCatch(return(expr), name, parentenv, handler):\n",
      "“Test/Validation dataset column 'MSZoning' has levels not trained on: [NA]”"
     ]
    },
    {
     "name": "stdout",
     "output_type": "stream",
     "text": [
      "  |======================================================================| 100%\n"
     ]
    },
    {
     "name": "stderr",
     "output_type": "stream",
     "text": [
      "Warning message in doTryCatch(return(expr), name, parentenv, handler):\n",
      "“Test/Validation dataset column 'MSZoning' has levels not trained on: [NA]”"
     ]
    },
    {
     "name": "stdout",
     "output_type": "stream",
     "text": [
      "  |======================================================================| 100%\n"
     ]
    },
    {
     "name": "stderr",
     "output_type": "stream",
     "text": [
      "Warning message in doTryCatch(return(expr), name, parentenv, handler):\n",
      "“Test/Validation dataset column 'MSZoning' has levels not trained on: [NA]”"
     ]
    },
    {
     "name": "stdout",
     "output_type": "stream",
     "text": [
      "  |======================================================================| 100%\n"
     ]
    },
    {
     "name": "stderr",
     "output_type": "stream",
     "text": [
      "Warning message in doTryCatch(return(expr), name, parentenv, handler):\n",
      "“Test/Validation dataset column 'MSZoning' has levels not trained on: [NA]”"
     ]
    },
    {
     "name": "stdout",
     "output_type": "stream",
     "text": [
      "  |======================================================================| 100%\n"
     ]
    },
    {
     "name": "stderr",
     "output_type": "stream",
     "text": [
      "Warning message in doTryCatch(return(expr), name, parentenv, handler):\n",
      "“Test/Validation dataset column 'MSZoning' has levels not trained on: [NA]”"
     ]
    },
    {
     "name": "stdout",
     "output_type": "stream",
     "text": [
      "  |======================================================================| 100%\n"
     ]
    },
    {
     "name": "stderr",
     "output_type": "stream",
     "text": [
      "Warning message in doTryCatch(return(expr), name, parentenv, handler):\n",
      "“Test/Validation dataset column 'MSZoning' has levels not trained on: [NA]”"
     ]
    },
    {
     "name": "stdout",
     "output_type": "stream",
     "text": [
      "  |======================================================================| 100%\n"
     ]
    },
    {
     "name": "stderr",
     "output_type": "stream",
     "text": [
      "Warning message in doTryCatch(return(expr), name, parentenv, handler):\n",
      "“Test/Validation dataset column 'MSZoning' has levels not trained on: [NA]”"
     ]
    },
    {
     "name": "stdout",
     "output_type": "stream",
     "text": [
      "  |======================================================================| 100%\n"
     ]
    },
    {
     "name": "stderr",
     "output_type": "stream",
     "text": [
      "Warning message in doTryCatch(return(expr), name, parentenv, handler):\n",
      "“Test/Validation dataset column 'MSZoning' has levels not trained on: [NA]”"
     ]
    },
    {
     "name": "stdout",
     "output_type": "stream",
     "text": [
      "  |======================================================================| 100%\n"
     ]
    },
    {
     "name": "stderr",
     "output_type": "stream",
     "text": [
      "Warning message in doTryCatch(return(expr), name, parentenv, handler):\n",
      "“Test/Validation dataset column 'MSZoning' has levels not trained on: [NA]”"
     ]
    },
    {
     "name": "stdout",
     "output_type": "stream",
     "text": [
      "  |======================================================================| 100%\n"
     ]
    },
    {
     "name": "stderr",
     "output_type": "stream",
     "text": [
      "Warning message in doTryCatch(return(expr), name, parentenv, handler):\n",
      "“Test/Validation dataset column 'MSZoning' has levels not trained on: [NA]”"
     ]
    },
    {
     "name": "stdout",
     "output_type": "stream",
     "text": [
      "  |======================================================================| 100%\n"
     ]
    },
    {
     "name": "stderr",
     "output_type": "stream",
     "text": [
      "Warning message in doTryCatch(return(expr), name, parentenv, handler):\n",
      "“Test/Validation dataset column 'MSZoning' has levels not trained on: [NA]”"
     ]
    },
    {
     "name": "stdout",
     "output_type": "stream",
     "text": [
      "  |======================================================================| 100%\n"
     ]
    },
    {
     "name": "stderr",
     "output_type": "stream",
     "text": [
      "Warning message in doTryCatch(return(expr), name, parentenv, handler):\n",
      "“Test/Validation dataset column 'MSZoning' has levels not trained on: [NA]”"
     ]
    },
    {
     "name": "stdout",
     "output_type": "stream",
     "text": [
      "  |======================================================================| 100%\n"
     ]
    },
    {
     "name": "stderr",
     "output_type": "stream",
     "text": [
      "Warning message in doTryCatch(return(expr), name, parentenv, handler):\n",
      "“Test/Validation dataset column 'MSZoning' has levels not trained on: [NA]”"
     ]
    },
    {
     "name": "stdout",
     "output_type": "stream",
     "text": [
      "  |======================================================================| 100%\n"
     ]
    },
    {
     "name": "stderr",
     "output_type": "stream",
     "text": [
      "Warning message in doTryCatch(return(expr), name, parentenv, handler):\n",
      "“Test/Validation dataset column 'MSZoning' has levels not trained on: [NA]”"
     ]
    },
    {
     "name": "stdout",
     "output_type": "stream",
     "text": [
      "  |======================================================================| 100%\n"
     ]
    },
    {
     "name": "stderr",
     "output_type": "stream",
     "text": [
      "Warning message in doTryCatch(return(expr), name, parentenv, handler):\n",
      "“Test/Validation dataset column 'MSZoning' has levels not trained on: [NA]”"
     ]
    },
    {
     "name": "stdout",
     "output_type": "stream",
     "text": [
      "  |======================================================================| 100%\n"
     ]
    },
    {
     "name": "stderr",
     "output_type": "stream",
     "text": [
      "Warning message in doTryCatch(return(expr), name, parentenv, handler):\n",
      "“Test/Validation dataset column 'MSZoning' has levels not trained on: [NA]”"
     ]
    },
    {
     "name": "stdout",
     "output_type": "stream",
     "text": [
      "  |======================================================================| 100%\n"
     ]
    },
    {
     "name": "stderr",
     "output_type": "stream",
     "text": [
      "Warning message in doTryCatch(return(expr), name, parentenv, handler):\n",
      "“Test/Validation dataset column 'MSZoning' has levels not trained on: [NA]”"
     ]
    },
    {
     "name": "stdout",
     "output_type": "stream",
     "text": [
      "  |======================================================================| 100%\n"
     ]
    },
    {
     "name": "stderr",
     "output_type": "stream",
     "text": [
      "Warning message in doTryCatch(return(expr), name, parentenv, handler):\n",
      "“Test/Validation dataset column 'MSZoning' has levels not trained on: [NA]”"
     ]
    },
    {
     "name": "stdout",
     "output_type": "stream",
     "text": [
      "  |======================================================================| 100%\n"
     ]
    },
    {
     "name": "stderr",
     "output_type": "stream",
     "text": [
      "Warning message in doTryCatch(return(expr), name, parentenv, handler):\n",
      "“Test/Validation dataset column 'MSZoning' has levels not trained on: [NA]”"
     ]
    },
    {
     "name": "stdout",
     "output_type": "stream",
     "text": [
      "  |======================================================================| 100%\n"
     ]
    },
    {
     "name": "stderr",
     "output_type": "stream",
     "text": [
      "Warning message in doTryCatch(return(expr), name, parentenv, handler):\n",
      "“Test/Validation dataset column 'MSZoning' has levels not trained on: [NA]”"
     ]
    },
    {
     "name": "stdout",
     "output_type": "stream",
     "text": [
      "  |======================================================================| 100%\n"
     ]
    },
    {
     "name": "stderr",
     "output_type": "stream",
     "text": [
      "Warning message in doTryCatch(return(expr), name, parentenv, handler):\n",
      "“Test/Validation dataset column 'MSZoning' has levels not trained on: [NA]”"
     ]
    },
    {
     "name": "stdout",
     "output_type": "stream",
     "text": [
      "  |======================================================================| 100%\n"
     ]
    },
    {
     "name": "stderr",
     "output_type": "stream",
     "text": [
      "Warning message in doTryCatch(return(expr), name, parentenv, handler):\n",
      "“Test/Validation dataset column 'MSZoning' has levels not trained on: [NA]”"
     ]
    },
    {
     "name": "stdout",
     "output_type": "stream",
     "text": [
      "  |======================================================================| 100%\n"
     ]
    },
    {
     "name": "stderr",
     "output_type": "stream",
     "text": [
      "Warning message in doTryCatch(return(expr), name, parentenv, handler):\n",
      "“Test/Validation dataset column 'MSZoning' has levels not trained on: [NA]”"
     ]
    },
    {
     "name": "stdout",
     "output_type": "stream",
     "text": [
      "  |======================================================================| 100%\n"
     ]
    },
    {
     "name": "stderr",
     "output_type": "stream",
     "text": [
      "Warning message in doTryCatch(return(expr), name, parentenv, handler):\n",
      "“Test/Validation dataset column 'MSZoning' has levels not trained on: [NA]”"
     ]
    },
    {
     "name": "stdout",
     "output_type": "stream",
     "text": [
      "  |======================================================================| 100%\n"
     ]
    },
    {
     "name": "stderr",
     "output_type": "stream",
     "text": [
      "Warning message in doTryCatch(return(expr), name, parentenv, handler):\n",
      "“Test/Validation dataset column 'MSZoning' has levels not trained on: [NA]”"
     ]
    },
    {
     "name": "stdout",
     "output_type": "stream",
     "text": [
      "  |======================================================================| 100%\n"
     ]
    },
    {
     "name": "stderr",
     "output_type": "stream",
     "text": [
      "Warning message in doTryCatch(return(expr), name, parentenv, handler):\n",
      "“Test/Validation dataset column 'MSZoning' has levels not trained on: [NA]”"
     ]
    },
    {
     "name": "stdout",
     "output_type": "stream",
     "text": [
      "  |======================================================================| 100%\n"
     ]
    },
    {
     "name": "stderr",
     "output_type": "stream",
     "text": [
      "Warning message in doTryCatch(return(expr), name, parentenv, handler):\n",
      "“Test/Validation dataset column 'MSZoning' has levels not trained on: [NA]”"
     ]
    },
    {
     "name": "stdout",
     "output_type": "stream",
     "text": [
      "  |======================================================================| 100%\n"
     ]
    },
    {
     "name": "stderr",
     "output_type": "stream",
     "text": [
      "Warning message in doTryCatch(return(expr), name, parentenv, handler):\n",
      "“Test/Validation dataset column 'MSZoning' has levels not trained on: [NA]”"
     ]
    },
    {
     "name": "stdout",
     "output_type": "stream",
     "text": [
      "  |======================================================================| 100%\n"
     ]
    },
    {
     "name": "stderr",
     "output_type": "stream",
     "text": [
      "Warning message in doTryCatch(return(expr), name, parentenv, handler):\n",
      "“Test/Validation dataset column 'MSZoning' has levels not trained on: [NA]”"
     ]
    },
    {
     "name": "stdout",
     "output_type": "stream",
     "text": [
      "  |======================================================================| 100%\n"
     ]
    },
    {
     "name": "stderr",
     "output_type": "stream",
     "text": [
      "Warning message in doTryCatch(return(expr), name, parentenv, handler):\n",
      "“Test/Validation dataset column 'MSZoning' has levels not trained on: [NA]”"
     ]
    },
    {
     "name": "stdout",
     "output_type": "stream",
     "text": [
      "  |======================================================================| 100%\n"
     ]
    },
    {
     "name": "stderr",
     "output_type": "stream",
     "text": [
      "Warning message in doTryCatch(return(expr), name, parentenv, handler):\n",
      "“Test/Validation dataset column 'MSZoning' has levels not trained on: [NA]”"
     ]
    },
    {
     "name": "stdout",
     "output_type": "stream",
     "text": [
      "  |======================================================================| 100%\n"
     ]
    },
    {
     "name": "stderr",
     "output_type": "stream",
     "text": [
      "Warning message in doTryCatch(return(expr), name, parentenv, handler):\n",
      "“Test/Validation dataset column 'MSZoning' has levels not trained on: [NA]”"
     ]
    },
    {
     "name": "stdout",
     "output_type": "stream",
     "text": [
      "  |======================================================================| 100%\n"
     ]
    },
    {
     "name": "stderr",
     "output_type": "stream",
     "text": [
      "Warning message in doTryCatch(return(expr), name, parentenv, handler):\n",
      "“Test/Validation dataset column 'MSZoning' has levels not trained on: [NA]”"
     ]
    },
    {
     "name": "stdout",
     "output_type": "stream",
     "text": [
      "  |======================================================================| 100%\n"
     ]
    },
    {
     "name": "stderr",
     "output_type": "stream",
     "text": [
      "Warning message in doTryCatch(return(expr), name, parentenv, handler):\n",
      "“Test/Validation dataset column 'MSZoning' has levels not trained on: [NA]”"
     ]
    },
    {
     "name": "stdout",
     "output_type": "stream",
     "text": [
      "  |======================================================================| 100%\n"
     ]
    },
    {
     "name": "stderr",
     "output_type": "stream",
     "text": [
      "Warning message in doTryCatch(return(expr), name, parentenv, handler):\n",
      "“Test/Validation dataset column 'MSZoning' has levels not trained on: [NA]”"
     ]
    },
    {
     "name": "stdout",
     "output_type": "stream",
     "text": [
      "  |======================================================================| 100%\n"
     ]
    },
    {
     "name": "stderr",
     "output_type": "stream",
     "text": [
      "Warning message in doTryCatch(return(expr), name, parentenv, handler):\n",
      "“Test/Validation dataset column 'MSZoning' has levels not trained on: [NA]”"
     ]
    },
    {
     "name": "stdout",
     "output_type": "stream",
     "text": [
      "  |======================================================================| 100%\n"
     ]
    },
    {
     "name": "stderr",
     "output_type": "stream",
     "text": [
      "Warning message in doTryCatch(return(expr), name, parentenv, handler):\n",
      "“Test/Validation dataset column 'MSZoning' has levels not trained on: [NA]”"
     ]
    },
    {
     "name": "stdout",
     "output_type": "stream",
     "text": [
      "  |======================================================================| 100%\n"
     ]
    },
    {
     "name": "stderr",
     "output_type": "stream",
     "text": [
      "Warning message in doTryCatch(return(expr), name, parentenv, handler):\n",
      "“Test/Validation dataset column 'MSZoning' has levels not trained on: [NA]”"
     ]
    },
    {
     "name": "stdout",
     "output_type": "stream",
     "text": [
      "  |======================================================================| 100%\n"
     ]
    },
    {
     "name": "stderr",
     "output_type": "stream",
     "text": [
      "Warning message in doTryCatch(return(expr), name, parentenv, handler):\n",
      "“Test/Validation dataset column 'MSZoning' has levels not trained on: [NA]”"
     ]
    },
    {
     "name": "stdout",
     "output_type": "stream",
     "text": [
      "  |======================================================================| 100%\n"
     ]
    },
    {
     "name": "stderr",
     "output_type": "stream",
     "text": [
      "Warning message in doTryCatch(return(expr), name, parentenv, handler):\n",
      "“Test/Validation dataset column 'MSZoning' has levels not trained on: [NA]”"
     ]
    },
    {
     "name": "stdout",
     "output_type": "stream",
     "text": [
      "  |======================================================================| 100%\n"
     ]
    },
    {
     "name": "stderr",
     "output_type": "stream",
     "text": [
      "Warning message in doTryCatch(return(expr), name, parentenv, handler):\n",
      "“Test/Validation dataset column 'MSZoning' has levels not trained on: [NA]”"
     ]
    },
    {
     "name": "stdout",
     "output_type": "stream",
     "text": [
      "  |======================================================================| 100%\n"
     ]
    },
    {
     "name": "stderr",
     "output_type": "stream",
     "text": [
      "Warning message in doTryCatch(return(expr), name, parentenv, handler):\n",
      "“Test/Validation dataset column 'MSZoning' has levels not trained on: [NA]”"
     ]
    },
    {
     "name": "stdout",
     "output_type": "stream",
     "text": [
      "  |======================================================================| 100%\n"
     ]
    },
    {
     "name": "stderr",
     "output_type": "stream",
     "text": [
      "Warning message in doTryCatch(return(expr), name, parentenv, handler):\n",
      "“Test/Validation dataset column 'MSZoning' has levels not trained on: [NA]”"
     ]
    },
    {
     "name": "stdout",
     "output_type": "stream",
     "text": [
      "  |======================================================================| 100%\n"
     ]
    },
    {
     "name": "stderr",
     "output_type": "stream",
     "text": [
      "Warning message in doTryCatch(return(expr), name, parentenv, handler):\n",
      "“Test/Validation dataset column 'MSZoning' has levels not trained on: [NA]”"
     ]
    },
    {
     "name": "stdout",
     "output_type": "stream",
     "text": [
      "  |======================================================================| 100%\n"
     ]
    },
    {
     "name": "stderr",
     "output_type": "stream",
     "text": [
      "Warning message in doTryCatch(return(expr), name, parentenv, handler):\n",
      "“Test/Validation dataset column 'MSZoning' has levels not trained on: [NA]”"
     ]
    },
    {
     "name": "stdout",
     "output_type": "stream",
     "text": [
      "  |======================================================================| 100%\n"
     ]
    },
    {
     "name": "stderr",
     "output_type": "stream",
     "text": [
      "Warning message in doTryCatch(return(expr), name, parentenv, handler):\n",
      "“Test/Validation dataset column 'MSZoning' has levels not trained on: [NA]”"
     ]
    },
    {
     "name": "stdout",
     "output_type": "stream",
     "text": [
      "  |======================================================================| 100%\n"
     ]
    },
    {
     "name": "stderr",
     "output_type": "stream",
     "text": [
      "Warning message in doTryCatch(return(expr), name, parentenv, handler):\n",
      "“Test/Validation dataset column 'MSZoning' has levels not trained on: [NA]”"
     ]
    },
    {
     "name": "stdout",
     "output_type": "stream",
     "text": [
      "  |======================================================================| 100%\n"
     ]
    },
    {
     "name": "stderr",
     "output_type": "stream",
     "text": [
      "Warning message in doTryCatch(return(expr), name, parentenv, handler):\n",
      "“Test/Validation dataset column 'MSZoning' has levels not trained on: [NA]”"
     ]
    },
    {
     "name": "stdout",
     "output_type": "stream",
     "text": [
      "  |======================================================================| 100%\n"
     ]
    },
    {
     "name": "stderr",
     "output_type": "stream",
     "text": [
      "Warning message in doTryCatch(return(expr), name, parentenv, handler):\n",
      "“Test/Validation dataset column 'MSZoning' has levels not trained on: [NA]”"
     ]
    },
    {
     "name": "stdout",
     "output_type": "stream",
     "text": [
      "  |======================================================================| 100%\n"
     ]
    },
    {
     "name": "stderr",
     "output_type": "stream",
     "text": [
      "Warning message in doTryCatch(return(expr), name, parentenv, handler):\n",
      "“Test/Validation dataset column 'MSZoning' has levels not trained on: [NA]”"
     ]
    },
    {
     "name": "stdout",
     "output_type": "stream",
     "text": [
      "  |======================================================================| 100%\n"
     ]
    },
    {
     "name": "stderr",
     "output_type": "stream",
     "text": [
      "Warning message in doTryCatch(return(expr), name, parentenv, handler):\n",
      "“Test/Validation dataset column 'MSZoning' has levels not trained on: [NA]”"
     ]
    },
    {
     "name": "stdout",
     "output_type": "stream",
     "text": [
      "  |======================================================================| 100%\n"
     ]
    },
    {
     "name": "stderr",
     "output_type": "stream",
     "text": [
      "Warning message in doTryCatch(return(expr), name, parentenv, handler):\n",
      "“Test/Validation dataset column 'MSZoning' has levels not trained on: [NA]”"
     ]
    },
    {
     "name": "stdout",
     "output_type": "stream",
     "text": [
      "  |======================================================================| 100%\n"
     ]
    },
    {
     "name": "stderr",
     "output_type": "stream",
     "text": [
      "Warning message in doTryCatch(return(expr), name, parentenv, handler):\n",
      "“Test/Validation dataset column 'MSZoning' has levels not trained on: [NA]”"
     ]
    },
    {
     "name": "stdout",
     "output_type": "stream",
     "text": [
      "  |======================================================================| 100%\n"
     ]
    },
    {
     "name": "stderr",
     "output_type": "stream",
     "text": [
      "Warning message in doTryCatch(return(expr), name, parentenv, handler):\n",
      "“Test/Validation dataset column 'MSZoning' has levels not trained on: [NA]”"
     ]
    },
    {
     "name": "stdout",
     "output_type": "stream",
     "text": [
      "  |======================================================================| 100%\n"
     ]
    },
    {
     "name": "stderr",
     "output_type": "stream",
     "text": [
      "Warning message in doTryCatch(return(expr), name, parentenv, handler):\n",
      "“Test/Validation dataset column 'MSZoning' has levels not trained on: [NA]”"
     ]
    },
    {
     "name": "stdout",
     "output_type": "stream",
     "text": [
      "  |======================================================================| 100%\n"
     ]
    },
    {
     "name": "stderr",
     "output_type": "stream",
     "text": [
      "Warning message in doTryCatch(return(expr), name, parentenv, handler):\n",
      "“Test/Validation dataset column 'MSZoning' has levels not trained on: [NA]”"
     ]
    },
    {
     "name": "stdout",
     "output_type": "stream",
     "text": [
      "  |======================================================================| 100%\n"
     ]
    },
    {
     "name": "stderr",
     "output_type": "stream",
     "text": [
      "Warning message in doTryCatch(return(expr), name, parentenv, handler):\n",
      "“Test/Validation dataset column 'MSZoning' has levels not trained on: [NA]”"
     ]
    },
    {
     "name": "stdout",
     "output_type": "stream",
     "text": [
      "  |======================================================================| 100%\n"
     ]
    },
    {
     "name": "stderr",
     "output_type": "stream",
     "text": [
      "Warning message in doTryCatch(return(expr), name, parentenv, handler):\n",
      "“Test/Validation dataset column 'MSZoning' has levels not trained on: [NA]”"
     ]
    },
    {
     "name": "stdout",
     "output_type": "stream",
     "text": [
      "  |======================================================================| 100%\n"
     ]
    },
    {
     "name": "stderr",
     "output_type": "stream",
     "text": [
      "Warning message in doTryCatch(return(expr), name, parentenv, handler):\n",
      "“Test/Validation dataset column 'MSZoning' has levels not trained on: [NA]”"
     ]
    },
    {
     "name": "stdout",
     "output_type": "stream",
     "text": [
      "  |======================================================================| 100%\n"
     ]
    },
    {
     "name": "stderr",
     "output_type": "stream",
     "text": [
      "Warning message in doTryCatch(return(expr), name, parentenv, handler):\n",
      "“Test/Validation dataset column 'MSZoning' has levels not trained on: [NA]”"
     ]
    },
    {
     "name": "stdout",
     "output_type": "stream",
     "text": [
      "  |======================================================================| 100%\n"
     ]
    },
    {
     "name": "stderr",
     "output_type": "stream",
     "text": [
      "Warning message in doTryCatch(return(expr), name, parentenv, handler):\n",
      "“Test/Validation dataset column 'MSZoning' has levels not trained on: [NA]”"
     ]
    },
    {
     "name": "stdout",
     "output_type": "stream",
     "text": [
      "  |======================================================================| 100%\n"
     ]
    },
    {
     "name": "stderr",
     "output_type": "stream",
     "text": [
      "Warning message in doTryCatch(return(expr), name, parentenv, handler):\n",
      "“Test/Validation dataset column 'MSZoning' has levels not trained on: [NA]”"
     ]
    },
    {
     "name": "stdout",
     "output_type": "stream",
     "text": [
      "  |======================================================================| 100%\n"
     ]
    },
    {
     "name": "stderr",
     "output_type": "stream",
     "text": [
      "Warning message in doTryCatch(return(expr), name, parentenv, handler):\n",
      "“Test/Validation dataset column 'MSZoning' has levels not trained on: [NA]”"
     ]
    },
    {
     "name": "stdout",
     "output_type": "stream",
     "text": [
      "  |======================================================================| 100%\n"
     ]
    },
    {
     "name": "stderr",
     "output_type": "stream",
     "text": [
      "Warning message in doTryCatch(return(expr), name, parentenv, handler):\n",
      "“Test/Validation dataset column 'MSZoning' has levels not trained on: [NA]”"
     ]
    },
    {
     "name": "stdout",
     "output_type": "stream",
     "text": [
      "  |======================================================================| 100%\n"
     ]
    },
    {
     "name": "stderr",
     "output_type": "stream",
     "text": [
      "Warning message in doTryCatch(return(expr), name, parentenv, handler):\n",
      "“Test/Validation dataset column 'MSZoning' has levels not trained on: [NA]”"
     ]
    },
    {
     "name": "stdout",
     "output_type": "stream",
     "text": [
      "  |======================================================================| 100%\n"
     ]
    },
    {
     "name": "stderr",
     "output_type": "stream",
     "text": [
      "Warning message in doTryCatch(return(expr), name, parentenv, handler):\n",
      "“Test/Validation dataset column 'MSZoning' has levels not trained on: [NA]”"
     ]
    },
    {
     "name": "stdout",
     "output_type": "stream",
     "text": [
      "  |======================================================================| 100%\n"
     ]
    },
    {
     "name": "stderr",
     "output_type": "stream",
     "text": [
      "Warning message in doTryCatch(return(expr), name, parentenv, handler):\n",
      "“Test/Validation dataset column 'MSZoning' has levels not trained on: [NA]”"
     ]
    },
    {
     "name": "stdout",
     "output_type": "stream",
     "text": [
      "  |======================================================================| 100%\n"
     ]
    },
    {
     "name": "stderr",
     "output_type": "stream",
     "text": [
      "Warning message in doTryCatch(return(expr), name, parentenv, handler):\n",
      "“Test/Validation dataset column 'MSZoning' has levels not trained on: [NA]”"
     ]
    },
    {
     "name": "stdout",
     "output_type": "stream",
     "text": [
      "  |======================================================================| 100%\n"
     ]
    },
    {
     "name": "stderr",
     "output_type": "stream",
     "text": [
      "Warning message in doTryCatch(return(expr), name, parentenv, handler):\n",
      "“Test/Validation dataset column 'MSZoning' has levels not trained on: [NA]”"
     ]
    },
    {
     "name": "stdout",
     "output_type": "stream",
     "text": [
      "  |======================================================================| 100%\n"
     ]
    },
    {
     "name": "stderr",
     "output_type": "stream",
     "text": [
      "Warning message in doTryCatch(return(expr), name, parentenv, handler):\n",
      "“Test/Validation dataset column 'MSZoning' has levels not trained on: [NA]”"
     ]
    },
    {
     "name": "stdout",
     "output_type": "stream",
     "text": [
      "  |======================================================================| 100%\n"
     ]
    },
    {
     "name": "stderr",
     "output_type": "stream",
     "text": [
      "Warning message in doTryCatch(return(expr), name, parentenv, handler):\n",
      "“Test/Validation dataset column 'MSZoning' has levels not trained on: [NA]”"
     ]
    },
    {
     "name": "stdout",
     "output_type": "stream",
     "text": [
      "  |======================================================================| 100%\n"
     ]
    },
    {
     "name": "stderr",
     "output_type": "stream",
     "text": [
      "Warning message in doTryCatch(return(expr), name, parentenv, handler):\n",
      "“Test/Validation dataset column 'MSZoning' has levels not trained on: [NA]”"
     ]
    },
    {
     "name": "stdout",
     "output_type": "stream",
     "text": [
      "  |======================================================================| 100%\n"
     ]
    },
    {
     "name": "stderr",
     "output_type": "stream",
     "text": [
      "Warning message in doTryCatch(return(expr), name, parentenv, handler):\n",
      "“Test/Validation dataset column 'MSZoning' has levels not trained on: [NA]”"
     ]
    },
    {
     "name": "stdout",
     "output_type": "stream",
     "text": [
      "  |======================================================================| 100%\n"
     ]
    },
    {
     "name": "stderr",
     "output_type": "stream",
     "text": [
      "Warning message in doTryCatch(return(expr), name, parentenv, handler):\n",
      "“Test/Validation dataset column 'MSZoning' has levels not trained on: [NA]”"
     ]
    },
    {
     "name": "stdout",
     "output_type": "stream",
     "text": [
      "  |======================================================================| 100%\n"
     ]
    },
    {
     "name": "stderr",
     "output_type": "stream",
     "text": [
      "Warning message in doTryCatch(return(expr), name, parentenv, handler):\n",
      "“Test/Validation dataset column 'MSZoning' has levels not trained on: [NA]”"
     ]
    },
    {
     "name": "stdout",
     "output_type": "stream",
     "text": [
      "  |======================================================================| 100%\n"
     ]
    },
    {
     "name": "stderr",
     "output_type": "stream",
     "text": [
      "Warning message in doTryCatch(return(expr), name, parentenv, handler):\n",
      "“Test/Validation dataset column 'MSZoning' has levels not trained on: [NA]”"
     ]
    }
   ],
   "source": [
    "#===============================================================\n",
    "# Run startml \n",
    "#\n",
    "#===============================================================\n",
    "\n",
    "# here we only train 3 types of algorithms for 60 grid searches each. \n",
    "# This will total 3 minutes of grid search\n",
    "output <- startml(labeled_data = train,\n",
    "                  newdata = test,\n",
    "                  label_id = 'Id',\n",
    "                  y = 'SalePrice',\n",
    "                  algorithms =c(\"deeplearning\", \"randomForest\", \"gbm\"),\n",
    "                  split_seed = 1234,\n",
    "                  runtime_secs = 300,\n",
    "                  eval_metric = \"RMSLE\"\n",
    ")\n"
   ]
  },
  {
   "cell_type": "markdown",
   "metadata": {},
   "source": [
    "## Plottig the Training Results\n",
    "\n",
    "startml has a built in \"cover-all\" plot to see the results of training the models \n",
    "and the test performance. Just use plot on the mlblob output from the startml function. Its worth noting that this plot function doesn't work yet with very big data sets, and thus is limited by your workstation capabilities. Although the startml function itself is capable of running on big data sets thanks to the h2o backend, the plot function here still needs a lot of ram. I am working on this in future versions so you can still use the plot function on very big data sets. "
   ]
  },
  {
   "cell_type": "code",
   "execution_count": null,
   "metadata": {},
   "outputs": [],
   "source": [
    "#===============================================================\n",
    "# Plot the results from training.  \n",
    "#\n",
    "#===============================================================\n",
    "\n",
    "plot(output)"
   ]
  },
  {
   "cell_type": "markdown",
   "metadata": {},
   "source": [
    "## Trimming\n",
    "\n",
    "There's alot going on even after only 3 minutes of model building. To fix this, we will trim poorly performing models with the trim function. If you don't know where to start, take a look at the median performance line and decide from there. For this example, I'm going to pick only models that did a lot better than the median. So, I'll trim down to models with RMSE 60000 or better on the test data. \n",
    "\n",
    "Also, I don't really care about very similar models either, so I set a correlation threshld of 0.95. This will pick only one model when two models test predictions have pearson correlation of greater than 0.95. "
   ]
  },
  {
   "cell_type": "code",
   "execution_count": null,
   "metadata": {},
   "outputs": [],
   "source": [
    "#==============================================================================================\n",
    "# Triming models based on eval metric and correlation. \n",
    "#\n",
    "#===============================================================================================\n",
    "\n",
    "# trim a few models\n",
    "trim_out <- trim(output,\n",
    "                  eval_metric = 'RMSE',\n",
    "                  eval_threshold = 20000, \n",
    "                  correlation_threshold = 0.95)"
   ]
  },
  {
   "cell_type": "markdown",
   "metadata": {},
   "source": [
    "## Plotting the trimmed result\n",
    "\n",
    "So, we'll plot the trimmed output:"
   ]
  },
  {
   "cell_type": "code",
   "execution_count": null,
   "metadata": {},
   "outputs": [],
   "source": [
    "#==============================================================================================\n",
    "# plotting the trimmed result\n",
    "#\n",
    "#===============================================================================================\n",
    "\n",
    "plot(trim_out)"
   ]
  },
  {
   "cell_type": "markdown",
   "metadata": {},
   "source": [
    "## Iterative Trimming\n",
    "\n",
    "Based off the top right subplot, we can see one of the random forest models (rf_model_1) that made it through our threshold controls is a stupid model. Even though it scored much better than many others, it simply found a sub-optima where producing one of two values based on the inputs got a RMSE of slightly below 60000. This was hard to see before with all the clutter, but now that it is obvious, we will send this object back through the timmer. This time, we wont use the correlation threshold. "
   ]
  },
  {
   "cell_type": "code",
   "execution_count": null,
   "metadata": {},
   "outputs": [],
   "source": [
    "#==============================================================================================\n",
    "# Triming models again.  \n",
    "#\n",
    "#===============================================================================================\n",
    "\n",
    "# trim a few models\n",
    "trim_out <- trim(trim_out,\n",
    "                  eval_metric = 'RMSE',\n",
    "                  eval_threshold = 58000)"
   ]
  },
  {
   "cell_type": "markdown",
   "metadata": {},
   "source": [
    "## Plotting the re trimmed resut\n",
    "\n",
    "So, we'll plot one more time"
   ]
  },
  {
   "cell_type": "code",
   "execution_count": null,
   "metadata": {},
   "outputs": [],
   "source": [
    "#==============================================================================================\n",
    "# plotting the trimmed result\n",
    "#\n",
    "#===============================================================================================\n",
    "\n",
    "plot(trim_out)"
   ]
  },
  {
   "cell_type": "markdown",
   "metadata": {},
   "source": [
    "## Evaluating the Remaining Models\n",
    "\n",
    "From about 40 or so models, we are down to two. the random forest model has performed much better than the gbm model,\n",
    "but it can be worth taking taking a look at both. From the top right plot, you can see the random forest model seems \n",
    "to have learned something about the structure of the data and is providing reasonable estiamtes that begin to\n",
    "approximate the actual shape of the test data. The gbm model however, does not seem to have yet learned \n",
    "enough to make reasonable predictions. Its predictions capture some of the processes dictating housing prices, but\n",
    "arnet good enough to really use. "
   ]
  },
  {
   "cell_type": "markdown",
   "metadata": {},
   "source": [
    "## Selecting One model and Looking Further\n",
    "\n",
    "So, we have automatically tuned over 40 models including deep learning, random forest, and gradient boosted machine algorithms. The majority of these models were not very good. Through iterative trimming, we selected random forest model as the best. We can now get the new data predictions from this model, or grab the model out of the mlblob object for further analysis. At this point, you can just treat the model like you trained it using the h2o interface only. \n",
    "\n",
    "H2O offers a lot of options for looking into models, they are pretty complex objects all by themselves. What the model object looks like depends on what algorithm it is, and what kind of problem it was trained on. Since the model I'm are looking into is a random forest, the object includes a few extras like variable importances out of the box. "
   ]
  },
  {
   "cell_type": "code",
   "execution_count": null,
   "metadata": {
    "collapsed": true
   },
   "outputs": [],
   "source": [
    "#=====================================================================================\n",
    "#\n",
    "# Save the best model predictions and go further with the seected model\n",
    "#\n",
    "# \n",
    "#=====================================================================================\n",
    "\n",
    "# the rf_model_0 is still on the h2o cluster before and after this command. \n",
    "# here, we just grab it out into a new object to work with it easily. \n",
    "# You get \"rf_model_0\" right off the summary graph of the mblob object\n",
    "best_model <- h2o.getModel('rf_model_0')\n",
    "\n",
    "# take a look at the model summary to see final parameters and more info on performance\n",
    "summary(best_model)"
   ]
  },
  {
   "cell_type": "markdown",
   "metadata": {},
   "source": [
    "### Variable importances \n",
    "\n",
    "H20 includes a function to look at variable importances in different algorithms. Here you see importance information for these variables in a nice looking table. Looking at the far right column, we can see that the \"OverallQual\" variable or overall quality of the houses was a pretty important variable when predicting the price according to the random forest model, while \"YrSold\" or year the house was sold was not very important to the price. Garage car capacity was also important in determining sale price. These findings echo some of what we unofficailly hypothesised while looking at the training data before the modeling process. "
   ]
  },
  {
   "cell_type": "code",
   "execution_count": null,
   "metadata": {},
   "outputs": [],
   "source": [
    "#========================================================================\n",
    "# \n",
    "# Explore variable importances\n",
    "#\n",
    "#========================================================================\n",
    "\n",
    "# take a look at the variable importances. \n",
    "h2o.varimp(best_model)"
   ]
  },
  {
   "cell_type": "markdown",
   "metadata": {},
   "source": [
    "## Making predictions with the best model\n",
    "\n",
    "I fed in \"newdata\" when launching startml in this notebook, so, the predictions for that set are already in the mlblob object \"output\". \n",
    "\n",
    "Theres a function in startml to make an h2oFrame or regular R dataframe with the predictions you want. For this small data set, we can load the final predictions right into the R workspace. For bigger data, you should not do this, and leave the object as an h2oFrame. "
   ]
  },
  {
   "cell_type": "code",
   "execution_count": null,
   "metadata": {
    "collapsed": true
   },
   "outputs": [],
   "source": []
  }
 ],
 "metadata": {
  "kernelspec": {
   "display_name": "R",
   "language": "R",
   "name": "ir"
  },
  "language_info": {
   "codemirror_mode": "r",
   "file_extension": ".r",
   "mimetype": "text/x-r-source",
   "name": "R",
   "pygments_lexer": "r",
   "version": "3.4.2"
  }
 },
 "nbformat": 4,
 "nbformat_minor": 2
}
